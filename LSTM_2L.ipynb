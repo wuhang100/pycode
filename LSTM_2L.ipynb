{
 "cells": [
  {
   "cell_type": "code",
   "execution_count": 1,
   "metadata": {},
   "outputs": [
    {
     "name": "stderr",
     "output_type": "stream",
     "text": [
      "Using TensorFlow backend.\n"
     ]
    }
   ],
   "source": [
    "import matplotlib.pyplot as plt\n",
    "import numpy as np\n",
    "from keras.layers.core import Dense, Activation, Dropout\n",
    "from keras.layers.recurrent import LSTM, GRU\n",
    "from keras.models import Sequential, load_model\n",
    "import mysql.connector\n",
    "from keras.optimizers import Adam\n",
    "from sklearn import preprocessing\n",
    "cnx = mysql.connector.connect(user='root', password='941012',\n",
    "                              host='127.0.0.1',\n",
    "                              database='test0')\n",
    "cursor = cnx.cursor()\n",
    "query = (\"SELECT n2,P1,T1,P2,T2 FROM test0.2016stablepoint LIMIT 1,20000\")\n",
    "cursor.execute(query)\n",
    "result=cursor.fetchall()\n",
    "x_list = np.array(result)\n",
    "scaler = preprocessing.StandardScaler().fit(x_list)\n",
    "train_x = scaler.transform(x_list)\n",
    "#print train_x\n",
    "query = (\"SELECT P34 FROM test0.2016stablepoint LIMIT 1,20000\")\n",
    "cursor.execute(query)\n",
    "result=cursor.fetchall()\n",
    "y_list = np.array(result)\n",
    "#print y_list\n",
    "#print np.hstack((train_x,y_list))\n",
    "x_list = np.hstack((train_x,y_list))\n",
    "result = []\n",
    "sequence_length = 20\n",
    "for index in range(len(x_list) - sequence_length + 1):\n",
    "    result.append(x_list[index: index + sequence_length])\n",
    "result = np.array(result)\n",
    "np.random.seed(10)\n",
    "np.random.shuffle(result)\n",
    "#print result\n",
    "row = int(round(0.95 * result.shape[0]))\n",
    "train = result[:row, :]\n",
    "test = result[row:, :]\n",
    "X_train = train[:,:,0:5]\n",
    "y_train = train[:,-1, -1]\n",
    "X_test = test[:,:,0:5]\n",
    "y_test = test[:,-1, -1]\n",
    "y_train = np.reshape(y_train, (y_train.shape[0],1))\n",
    "y_test = np.reshape(y_test, (y_test.shape[0],1))\n",
    "#print X_train\n",
    "#print y_train"
   ]
  },
  {
   "cell_type": "code",
   "execution_count": 2,
   "metadata": {
    "collapsed": true
   },
   "outputs": [],
   "source": [
    "BATCH_INDEX = 0\n",
    "model = Sequential()\n",
    "# RNN cell\n",
    "layers = [5, 50, 100, 1]\n",
    "model.add(LSTM(\n",
    "        layers[1],\n",
    "        input_shape=(sequence_length,layers[0]),\n",
    "        return_sequences=True))\n",
    "model.add(Dropout(0.2))\n",
    "\n",
    "model.add(LSTM(\n",
    "        layers[2],\n",
    "        return_sequences=False))\n",
    "model.add(Dropout(0.2))\n",
    "\n",
    "model.add(Dense(\n",
    "    layers[3]))\n",
    "model.add(Activation(\"linear\"))\n",
    "    #model.compile(loss=\"mse\", optimizer=\"rmsprop\", metrics=['accuracy'])\n",
    "model.compile(loss=\"mse\", optimizer=\"rmsprop\", metrics=['mae', 'mape'])\n",
    "\n",
    "cursor.close()\n",
    "cnx.close()\n",
    "\n",
    "#for step in range(1001):\n",
    "    # data shape = (batch_num, steps, inputs/outputs)\n",
    "#    X_batch = X_train[BATCH_INDEX: BATCH_INDEX+20, :, :]\n",
    "#    Y_batch = y_train[BATCH_INDEX: BATCH_INDEX+20, :]\n",
    "#    cost = model.train_on_batch(X_batch, Y_batch)\n",
    "#    BATCH_INDEX += 20\n",
    "#    BATCH_INDEX = 0 if BATCH_INDEX >= X_train.shape[0] else BATCH_INDEX\n",
    "\n",
    "#    if step % 500 == 0:\n",
    "#        cost, mae = model.evaluate(X_test, y_test, batch_size=y_test.shape[0], verbose=False)\n",
    "#        print('test cost: ', cost, 'test accuracy: ', mae)"
   ]
  },
  {
   "cell_type": "code",
   "execution_count": 3,
   "metadata": {},
   "outputs": [
    {
     "name": "stdout",
     "output_type": "stream",
     "text": [
      "Train on 18032 samples, validate on 950 samples\n",
      "Epoch 1/10\n",
      "18032/18032 [==============================] - 7s 409us/step - loss: 710.1184 - mean_absolute_error: 25.7263 - mean_absolute_percentage_error: 54.8636 - val_loss: 276.2029 - val_mean_absolute_error: 16.4713 - val_mean_absolute_percentage_error: 35.0033\n",
      "Epoch 2/10\n",
      "18032/18032 [==============================] - 7s 367us/step - loss: 99.2980 - mean_absolute_error: 8.5576 - mean_absolute_percentage_error: 18.1214 - val_loss: 6.2044 - val_mean_absolute_error: 1.9850 - val_mean_absolute_percentage_error: 4.1295\n",
      "Epoch 3/10\n",
      "18032/18032 [==============================] - 7s 374us/step - loss: 8.0298 - mean_absolute_error: 2.1539 - mean_absolute_percentage_error: 4.5907 - val_loss: 0.2340 - val_mean_absolute_error: 0.3816 - val_mean_absolute_percentage_error: 0.8062\n",
      "Epoch 4/10\n",
      "18032/18032 [==============================] - 7s 377us/step - loss: 5.9366 - mean_absolute_error: 1.9369 - mean_absolute_percentage_error: 4.1366 - val_loss: 0.3465 - val_mean_absolute_error: 0.5309 - val_mean_absolute_percentage_error: 1.1374\n",
      "Epoch 5/10\n",
      "18032/18032 [==============================] - 7s 383us/step - loss: 7.6290 - mean_absolute_error: 1.9503 - mean_absolute_percentage_error: 4.1725 - val_loss: 0.0737 - val_mean_absolute_error: 0.1689 - val_mean_absolute_percentage_error: 0.3571\n",
      "Epoch 6/10\n",
      "18032/18032 [==============================] - 7s 384us/step - loss: 6.0291 - mean_absolute_error: 1.9278 - mean_absolute_percentage_error: 4.1203 - val_loss: 0.1481 - val_mean_absolute_error: 0.3028 - val_mean_absolute_percentage_error: 0.6355\n",
      "Epoch 7/10\n",
      "18032/18032 [==============================] - 7s 387us/step - loss: 5.7189 - mean_absolute_error: 1.9058 - mean_absolute_percentage_error: 4.0731 - val_loss: 0.4373 - val_mean_absolute_error: 0.6003 - val_mean_absolute_percentage_error: 1.3068\n",
      "Epoch 8/10\n",
      "18032/18032 [==============================] - 7s 391us/step - loss: 5.7762 - mean_absolute_error: 1.9104 - mean_absolute_percentage_error: 4.0840 - val_loss: 0.6121 - val_mean_absolute_error: 0.7629 - val_mean_absolute_percentage_error: 1.6440\n",
      "Epoch 9/10\n",
      "18032/18032 [==============================] - 7s 391us/step - loss: 5.7882 - mean_absolute_error: 1.9153 - mean_absolute_percentage_error: 4.0921 - val_loss: 0.8214 - val_mean_absolute_error: 0.8705 - val_mean_absolute_percentage_error: 1.8838\n",
      "Epoch 10/10\n",
      "18032/18032 [==============================] - 7s 394us/step - loss: 5.5965 - mean_absolute_error: 1.8847 - mean_absolute_percentage_error: 4.0254 - val_loss: 0.5366 - val_mean_absolute_error: 0.6887 - val_mean_absolute_percentage_error: 1.4886\n"
     ]
    },
    {
     "data": {
      "text/plain": [
       "<keras.callbacks.History at 0x7f06902f68d0>"
      ]
     },
     "execution_count": 3,
     "metadata": {},
     "output_type": "execute_result"
    }
   ],
   "source": [
    "from keras.callbacks import TensorBoard\n",
    "model.fit(\n",
    "    X_train, y_train,\n",
    "    batch_size=100, epochs=10,validation_split=0.05,callbacks=[TensorBoard(log_dir='./tmp/log')])"
   ]
  },
  {
   "cell_type": "code",
   "execution_count": 4,
   "metadata": {
    "collapsed": true
   },
   "outputs": [],
   "source": [
    "predicted = model.predict(X_test)\n",
    "#print X_test\n",
    "#print y_test"
   ]
  },
  {
   "cell_type": "code",
   "execution_count": 5,
   "metadata": {},
   "outputs": [
    {
     "data": {
      "image/png": "[encoded data removed]",
      "text/plain": [
       "<matplotlib.figure.Figure at 0x7f06347f1a10>"
      ]
     },
     "metadata": {},
     "output_type": "display_data"
    },
    {
     "name": "stdout",
     "output_type": "stream",
     "text": [
      "Accuracy:0.9847735898595522\n"
     ]
    }
   ],
   "source": [
    "predicted_pro = (np.mean(y_test)-np.mean(predicted))*np.ones(29)+predicted[1:30,0]\n",
    "#print y_test[1:30]\n",
    "fig = plt.figure()\n",
    "ax = fig.add_subplot(111)\n",
    "ax.plot(y_test[1:50],label=\"Real\")\n",
    "ax.legend(loc='upper left')\n",
    "plt.plot(predicted[1:50],label=\"Prediction\")\n",
    "plt.legend(loc='upper left')\n",
    "plt.ylim(40,55)\n",
    "plt.show()\n",
    "acc = np.ones((y_test.shape[0],1))-abs((predicted-y_test)/y_test)\n",
    "print 'Accuracy:'+str(np.mean(acc))\n",
    "from keras.utils import plot_model\n",
    "plot_model(model, to_file='model.png', show_shapes=True, show_layer_names=True)"
   ]
  },
  {
   "cell_type": "code",
   "execution_count": null,
   "metadata": {
    "collapsed": true
   },
   "outputs": [],
   "source": []
  }
 ],
 "metadata": {
  "kernelspec": {
   "display_name": "Python 2",
   "language": "python",
   "name": "python2"
  },
  "language_info": {
   "codemirror_mode": {
    "name": "ipython",
    "version": 2
   },
   "file_extension": ".py",
   "mimetype": "text/x-python",
   "name": "python",
   "nbconvert_exporter": "python",
   "pygments_lexer": "ipython2",
   "version": "2.7.13"
  }
 },
 "nbformat": 4,
 "nbformat_minor": 2
}
