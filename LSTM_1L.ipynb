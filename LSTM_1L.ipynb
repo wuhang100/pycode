{
 "cells": [
  {
   "cell_type": "code",
   "execution_count": 1,
   "metadata": {},
   "outputs": [
    {
     "name": "stderr",
     "output_type": "stream",
     "text": [
      "Using TensorFlow backend.\n"
     ]
    }
   ],
   "source": [
    "import matplotlib.pyplot as plt\n",
    "import numpy as np\n",
    "from keras.layers.core import Dense, Activation, Dropout\n",
    "from keras.layers.recurrent import LSTM, GRU\n",
    "from keras.models import Sequential, load_model\n",
    "import mysql.connector\n",
    "from keras.optimizers import Adam\n",
    "from sklearn import preprocessing\n",
    "cnx = mysql.connector.connect(user='root', password='941012',\n",
    "                              host='127.0.0.1',\n",
    "                              database='test0')\n",
    "cursor = cnx.cursor()\n",
    "query = (\"SELECT n2,P1,T1,P2,T2 FROM test0.2016stablepoint LIMIT 1,20000\")\n",
    "cursor.execute(query)\n",
    "result=cursor.fetchall()\n",
    "x_list = np.array(result)\n",
    "scaler = preprocessing.StandardScaler().fit(x_list)\n",
    "train_x = scaler.transform(x_list)\n",
    "#print train_x\n",
    "query = (\"SELECT P34 FROM test0.2016stablepoint LIMIT 1,20000\")\n",
    "cursor.execute(query)\n",
    "result=cursor.fetchall()\n",
    "y_list = np.array(result)\n",
    "#print y_list\n",
    "#print np.hstack((train_x,y_list))\n",
    "x_list = np.hstack((train_x,y_list))\n",
    "result = []\n",
    "sequence_length = 20\n",
    "for index in range(len(x_list) - sequence_length + 1):\n",
    "    result.append(x_list[index: index + sequence_length])\n",
    "result = np.array(result)\n",
    "np.random.seed(10)\n",
    "np.random.shuffle(result)\n",
    "#print result\n",
    "row = int(round(0.95 * result.shape[0]))\n",
    "train = result[:row, :]\n",
    "test = result[row:, :]\n",
    "X_train = train[:,:,0:5]\n",
    "y_train = train[:,-1, -1]\n",
    "X_test = test[:,:,0:5]\n",
    "y_test = test[:,-1, -1]\n",
    "y_train = np.reshape(y_train, (y_train.shape[0],1))\n",
    "y_test = np.reshape(y_test, (y_test.shape[0],1))\n",
    "#print X_train\n",
    "#print y_train"
   ]
  },
  {
   "cell_type": "code",
   "execution_count": 2,
   "metadata": {
    "collapsed": true
   },
   "outputs": [],
   "source": [
    "BATCH_INDEX = 0\n",
    "model = Sequential()\n",
    "# RNN cell\n",
    "layers = [5, 50, 1]\n",
    "model.add(LSTM(\n",
    "        layers[1],\n",
    "        input_shape=(sequence_length,layers[0]),\n",
    "        return_sequences=False))\n",
    "model.add(Dropout(0.2))\n",
    "\n",
    "model.add(Dense(\n",
    "    layers[2]))\n",
    "model.add(Activation(\"linear\"))\n",
    "    #model.compile(loss=\"mse\", optimizer=\"rmsprop\", metrics=['accuracy'])\n",
    "model.compile(loss=\"mse\", optimizer=\"rmsprop\", metrics=['mae', 'mape'])\n",
    "\n",
    "cursor.close()\n",
    "cnx.close()"
   ]
  },
  {
   "cell_type": "code",
   "execution_count": 3,
   "metadata": {
    "scrolled": true
   },
   "outputs": [
    {
     "name": "stdout",
     "output_type": "stream",
     "text": [
      "Train on 18032 samples, validate on 950 samples\n",
      "Epoch 1/25\n",
      "18032/18032 [==============================] - 2s 135us/step - loss: 1224.5082 - mean_absolute_error: 34.5651 - mean_absolute_percentage_error: 73.7837 - val_loss: 833.7628 - val_mean_absolute_error: 28.7900 - val_mean_absolute_percentage_error: 61.3454\n",
      "Epoch 2/25\n",
      "18032/18032 [==============================] - 2s 102us/step - loss: 605.5887 - mean_absolute_error: 24.3170 - mean_absolute_percentage_error: 51.8440 - val_loss: 401.5616 - val_mean_absolute_error: 19.9164 - val_mean_absolute_percentage_error: 42.3702\n",
      "Epoch 3/25\n",
      "18032/18032 [==============================] - 2s 112us/step - loss: 256.8275 - mean_absolute_error: 15.5020 - mean_absolute_percentage_error: 32.9688 - val_loss: 129.2187 - val_mean_absolute_error: 11.1498 - val_mean_absolute_percentage_error: 23.6241\n",
      "Epoch 4/25\n",
      "18032/18032 [==============================] - 2s 119us/step - loss: 66.2771 - mean_absolute_error: 7.0510 - mean_absolute_percentage_error: 14.8884 - val_loss: 12.6729 - val_mean_absolute_error: 2.8180 - val_mean_absolute_percentage_error: 5.8130\n",
      "Epoch 5/25\n",
      "18032/18032 [==============================] - 2s 110us/step - loss: 16.6452 - mean_absolute_error: 3.2459 - mean_absolute_percentage_error: 6.8966 - val_loss: 5.0365 - val_mean_absolute_error: 1.7559 - val_mean_absolute_percentage_error: 3.6978\n",
      "Epoch 6/25\n",
      "18032/18032 [==============================] - 2s 118us/step - loss: 15.8753 - mean_absolute_error: 3.1744 - mean_absolute_percentage_error: 6.7630 - val_loss: 4.9389 - val_mean_absolute_error: 1.7248 - val_mean_absolute_percentage_error: 3.6446\n",
      "Epoch 7/25\n",
      "18032/18032 [==============================] - 2s 112us/step - loss: 15.8247 - mean_absolute_error: 3.1754 - mean_absolute_percentage_error: 6.7676 - val_loss: 4.9369 - val_mean_absolute_error: 1.7241 - val_mean_absolute_percentage_error: 3.6436\n",
      "Epoch 8/25\n",
      "18032/18032 [==============================] - 2s 111us/step - loss: 18.6023 - mean_absolute_error: 3.2062 - mean_absolute_percentage_error: 6.8397 - val_loss: 4.0434 - val_mean_absolute_error: 1.5564 - val_mean_absolute_percentage_error: 3.2565\n",
      "Epoch 9/25\n",
      "18032/18032 [==============================] - 2s 111us/step - loss: 12.0544 - mean_absolute_error: 2.7509 - mean_absolute_percentage_error: 5.8680 - val_loss: 0.7500 - val_mean_absolute_error: 0.7465 - val_mean_absolute_percentage_error: 1.5673\n",
      "Epoch 10/25\n",
      "18032/18032 [==============================] - 2s 110us/step - loss: 11.0136 - mean_absolute_error: 2.6365 - mean_absolute_percentage_error: 5.6328 - val_loss: 1.1981 - val_mean_absolute_error: 1.0695 - val_mean_absolute_percentage_error: 2.2776\n",
      "Epoch 11/25\n",
      "18032/18032 [==============================] - 2s 112us/step - loss: 10.8712 - mean_absolute_error: 2.6134 - mean_absolute_percentage_error: 5.5856 - val_loss: 0.0985 - val_mean_absolute_error: 0.2471 - val_mean_absolute_percentage_error: 0.5259\n",
      "Epoch 12/25\n",
      "18032/18032 [==============================] - 2s 111us/step - loss: 11.2784 - mean_absolute_error: 2.6270 - mean_absolute_percentage_error: 5.6135 - val_loss: 0.0606 - val_mean_absolute_error: 0.1839 - val_mean_absolute_percentage_error: 0.3868\n",
      "Epoch 13/25\n",
      "18032/18032 [==============================] - 2s 113us/step - loss: 10.5790 - mean_absolute_error: 2.5895 - mean_absolute_percentage_error: 5.5319 - val_loss: 0.3390 - val_mean_absolute_error: 0.5494 - val_mean_absolute_percentage_error: 1.1841\n",
      "Epoch 14/25\n",
      "18032/18032 [==============================] - 2s 113us/step - loss: 10.6395 - mean_absolute_error: 2.5957 - mean_absolute_percentage_error: 5.5423 - val_loss: 0.3028 - val_mean_absolute_error: 0.5258 - val_mean_absolute_percentage_error: 1.1288\n",
      "Epoch 15/25\n",
      "18032/18032 [==============================] - 2s 110us/step - loss: 10.5525 - mean_absolute_error: 2.5839 - mean_absolute_percentage_error: 5.5207 - val_loss: 0.0517 - val_mean_absolute_error: 0.1772 - val_mean_absolute_percentage_error: 0.3747\n",
      "Epoch 16/25\n",
      "18032/18032 [==============================] - 2s 109us/step - loss: 11.3249 - mean_absolute_error: 2.5849 - mean_absolute_percentage_error: 5.5210 - val_loss: 0.0396 - val_mean_absolute_error: 0.1604 - val_mean_absolute_percentage_error: 0.3427\n",
      "Epoch 17/25\n",
      "18032/18032 [==============================] - 2s 108us/step - loss: 10.4424 - mean_absolute_error: 2.5669 - mean_absolute_percentage_error: 5.4822 - val_loss: 0.0889 - val_mean_absolute_error: 0.2736 - val_mean_absolute_percentage_error: 0.5846\n",
      "Epoch 18/25\n",
      "18032/18032 [==============================] - 2s 108us/step - loss: 11.3617 - mean_absolute_error: 2.5770 - mean_absolute_percentage_error: 5.5061 - val_loss: 0.5933 - val_mean_absolute_error: 0.7598 - val_mean_absolute_percentage_error: 1.6177\n",
      "Epoch 19/25\n",
      "18032/18032 [==============================] - 2s 110us/step - loss: 10.5686 - mean_absolute_error: 2.5506 - mean_absolute_percentage_error: 5.4495 - val_loss: 0.2619 - val_mean_absolute_error: 0.4997 - val_mean_absolute_percentage_error: 1.0678\n",
      "Epoch 20/25\n",
      "18032/18032 [==============================] - 2s 110us/step - loss: 10.2630 - mean_absolute_error: 2.5490 - mean_absolute_percentage_error: 5.4444 - val_loss: 0.1030 - val_mean_absolute_error: 0.2944 - val_mean_absolute_percentage_error: 0.6300\n",
      "Epoch 21/25\n",
      "18032/18032 [==============================] - 2s 109us/step - loss: 10.3489 - mean_absolute_error: 2.5362 - mean_absolute_percentage_error: 5.4216 - val_loss: 0.0220 - val_mean_absolute_error: 0.1060 - val_mean_absolute_percentage_error: 0.2241\n",
      "Epoch 22/25\n",
      "18032/18032 [==============================] - 2s 109us/step - loss: 10.2217 - mean_absolute_error: 2.5491 - mean_absolute_percentage_error: 5.4449 - val_loss: 0.0624 - val_mean_absolute_error: 0.2295 - val_mean_absolute_percentage_error: 0.4922\n",
      "Epoch 23/25\n",
      "18032/18032 [==============================] - 2s 109us/step - loss: 10.1917 - mean_absolute_error: 2.5479 - mean_absolute_percentage_error: 5.4418 - val_loss: 0.5044 - val_mean_absolute_error: 0.6904 - val_mean_absolute_percentage_error: 1.4837\n",
      "Epoch 24/25\n",
      "18032/18032 [==============================] - 2s 109us/step - loss: 10.2668 - mean_absolute_error: 2.5502 - mean_absolute_percentage_error: 5.4469 - val_loss: 0.6218 - val_mean_absolute_error: 0.7855 - val_mean_absolute_percentage_error: 1.6811\n",
      "Epoch 25/25\n",
      "18032/18032 [==============================] - 2s 110us/step - loss: 10.1255 - mean_absolute_error: 2.5365 - mean_absolute_percentage_error: 5.4185 - val_loss: 0.2924 - val_mean_absolute_error: 0.5356 - val_mean_absolute_percentage_error: 1.1423\n"
     ]
    },
    {
     "data": {
      "text/plain": [
       "<keras.callbacks.History at 0x7f586687ef10>"
      ]
     },
     "execution_count": 3,
     "metadata": {},
     "output_type": "execute_result"
    }
   ],
   "source": [
    "from keras.callbacks import TensorBoard\n",
    "model.fit(\n",
    "    X_train, y_train,\n",
    "    batch_size=100, epochs=25,validation_split=0.05,callbacks=[TensorBoard(log_dir='./tmp/log')])"
   ]
  },
  {
   "cell_type": "code",
   "execution_count": 4,
   "metadata": {},
   "outputs": [
    {
     "data": {
      "image/png": "[encoded data removed]",
      "text/plain": [
       "<matplotlib.figure.Figure at 0x7f58a8343390>"
      ]
     },
     "metadata": {},
     "output_type": "display_data"
    },
    {
     "name": "stdout",
     "output_type": "stream",
     "text": [
      "Accuracy:0.9885584706115871\n"
     ]
    }
   ],
   "source": [
    "predicted = model.predict(X_test)\n",
    "predicted_pro = (np.mean(y_test)-np.mean(predicted))*np.ones(29)+predicted[1:30,0]\n",
    "#print y_test[1:30]\n",
    "fig = plt.figure()\n",
    "ax = fig.add_subplot(111)\n",
    "ax.plot(y_test[1:50],label=\"Real\")\n",
    "ax.legend(loc='upper left')\n",
    "plt.plot(predicted[1:50],label=\"Prediction\")\n",
    "plt.legend(loc='upper left')\n",
    "plt.ylim(40,55)\n",
    "plt.show()\n",
    "acc = np.ones((y_test.shape[0],1))-abs((predicted-y_test)/y_test)\n",
    "print 'Accuracy:'+str(np.mean(acc))\n",
    "from keras.utils import plot_model\n",
    "plot_model(model, to_file='model.png', show_shapes=True, show_layer_names=True)"
   ]
  },
  {
   "cell_type": "code",
   "execution_count": null,
   "metadata": {
    "collapsed": true
   },
   "outputs": [],
   "source": []
  }
 ],
 "metadata": {
  "kernelspec": {
   "display_name": "Python 2",
   "language": "python",
   "name": "python2"
  },
  "language_info": {
   "codemirror_mode": {
    "name": "ipython",
    "version": 2
   },
   "file_extension": ".py",
   "mimetype": "text/x-python",
   "name": "python",
   "nbconvert_exporter": "python",
   "pygments_lexer": "ipython2",
   "version": "2.7.13"
  }
 },
 "nbformat": 4,
 "nbformat_minor": 2
}
